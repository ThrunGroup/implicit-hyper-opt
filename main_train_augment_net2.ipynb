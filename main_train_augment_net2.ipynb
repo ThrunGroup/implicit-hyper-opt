{
 "cells": [
  {
   "cell_type": "markdown",
   "id": "a6757109-c227-453d-a76b-44db3f6db805",
   "metadata": {},
   "source": [
    "### (Optional for Google Colab) Mount your Google Drive to the Colab VM"
   ]
  },
  {
   "cell_type": "code",
   "execution_count": null,
   "id": "31fe039f-c766-423d-8006-8f5361704061",
   "metadata": {},
   "outputs": [],
   "source": [
    "# This mounts your Google Drive to the Colab VM.\n",
    "from google.colab import drive\n",
    "drive.mount('/content/drive')\n",
    "\n",
    "# TODO: Enter the foldername in your Drive where you have saved the unzipped\n",
    "# assignment folder, e.g. 'data-augmentation/multimodal_downstream/'\n",
    "FOLDERNAME = None\n",
    "assert FOLDERNAME is not None, \"[!] Enter the foldername.\"\n",
    "\n",
    "# Now that we've mounted your Drive, this ensures that\n",
    "# the Python interpreter of the Colab VM can load# python files from within it.\n",
    "import sys\n",
    "sys.path.append('/content/drive/My Drive/{}'.format(FOLDERNAME))"
   ]
  },
  {
   "cell_type": "markdown",
   "id": "47f1cb74-23e3-4b93-a00b-39e04570cc7e",
   "metadata": {},
   "source": [
    "# Install required packages "
   ]
  },
  {
   "cell_type": "code",
   "execution_count": null,
   "id": "404ad186-1270-43b1-8d2f-1c32b420e969",
   "metadata": {},
   "outputs": [],
   "source": [
    "!pip install ipdb pandas scikit-learn"
   ]
  },
  {
   "cell_type": "markdown",
   "id": "8e82564f-7327-4078-8260-bcf20bdf1815",
   "metadata": {},
   "source": [
    "# Train Augment Net"
   ]
  },
  {
   "cell_type": "code",
   "execution_count": null,
   "id": "c7b53ce9-1f48-4b46-8018-16ebe1e4c621",
   "metadata": {},
   "outputs": [],
   "source": [
    "from train_augment_net2 import AugmentNetTrainer\n",
    "\n",
    "# Set True to use GPU. Otherwise, set False.\n",
    "seeds = [1]\n",
    "hyperparams = ['dataAugment']\n",
    "data_sizes = [100, 200, 1600]\n",
    "val_props = [.0, .1, .25, .5, .75, .9]\n",
    "datasets = ['mnist']\n",
    "model = 'cnn_mlp'\n",
    "\n",
    "augment_net_trainer = AugmentNetTrainer(seeds=seeds,\n",
    "                                        hyperparams=hyperparams,\n",
    "                                        data_sizes=data_sizes,\n",
    "                                        val_props=val_props,\n",
    "                                        datasets=datasets,\n",
    "                                        model=model)\n",
    "augment_net_trainer.process()"
   ]
  }
 ],
 "metadata": {
  "kernelspec": {
   "display_name": "Python 3",
   "language": "python",
   "name": "python3"
  },
  "language_info": {
   "codemirror_mode": {
    "name": "ipython",
    "version": 3
   },
   "file_extension": ".py",
   "mimetype": "text/x-python",
   "name": "python",
   "nbconvert_exporter": "python",
   "pygments_lexer": "ipython3",
   "version": "3.7.10"
  }
 },
 "nbformat": 4,
 "nbformat_minor": 5
}
